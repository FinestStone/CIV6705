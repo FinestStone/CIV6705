{
 "cells": [
  {
   "cell_type": "markdown",
   "metadata": {},
   "source": [
    "# Fundamental diagrams of pedestrian flow from empirical video data\n",
    "\n",
    "## Author\n",
    "Étienne Beauchamp  \n",
    "M.A.Sc. candidate, Department of Civil, Geological and Mining Engineering  \n",
    "Polytechnique Montréal, C.P. 6079, succ. Centre-Ville  \n",
    "Montréal (Québec) Canada H3C 3A7  \n",
    "Phone: (514) 340-4711 ext. 4210  \n",
    "Email: etienne-2.beauchamp@polymtl.ca\n",
    "\n",
    "## Overview\n",
    "This code was written for a project done as part of the course *CIV6705 - Théorie de la circulation*. It uses methods from the TrafficIntelligence Python module to draw fundamental diagrams of pedestrian data extracted from video recordings.\n",
    "\n",
    "Before getting started, you will need to install the following:\n",
    "* Python 3.5.6 (other versions were not tested) with most of the standard scientific packages (e.g., numpy, matplotlib, pandas, etc.). I recommend installing [Anaconda](https://www.anaconda.com/download/#linux);\n",
    "* [TrafficIntelligence](https://bitbucket.org/Nicolas/trafficintelligence/wiki/Home);\n",
    "* [OpenCV 3.4.3](https://anaconda.org/conda-forge/opencv)."
   ]
  },
  {
   "cell_type": "code",
   "execution_count": 13,
   "metadata": {},
   "outputs": [],
   "source": [
    "from trafficintelligence import storage, moving\n",
    "from scipy.spatial import Voronoi, voronoi_plot_2d\n",
    "\n",
    "import numpy as np\n",
    "import matplotlib.pyplot as plt\n",
    "\n",
    "objects = storage.loadTrajectoriesFromSqlite('Donnees/1014AM_July 11_2014(E to W).sqlite','feature')\n",
    "\n",
    "frameRate = 30"
   ]
  },
  {
   "cell_type": "markdown",
   "metadata": {},
   "source": [
    "### Voronoï diagram technique"
   ]
  },
  {
   "cell_type": "code",
   "execution_count": 11,
   "metadata": {},
   "outputs": [],
   "source": []
  }
 ],
 "metadata": {
  "kernelspec": {
   "display_name": "Python 3",
   "language": "python",
   "name": "python3"
  },
  "language_info": {
   "codemirror_mode": {
    "name": "ipython",
    "version": 3
   },
   "file_extension": ".py",
   "mimetype": "text/x-python",
   "name": "python",
   "nbconvert_exporter": "python",
   "pygments_lexer": "ipython3",
   "version": "3.5.6"
  }
 },
 "nbformat": 4,
 "nbformat_minor": 2
}
