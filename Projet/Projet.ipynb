{
 "cells": [
  {
   "cell_type": "markdown",
   "metadata": {},
   "source": [
    "# Fundamental diagrams of pedestrian flow from empirical video data\n",
    "\n",
    "## Author\n",
    "Étienne Beauchamp  \n",
    "M.A.Sc. candidate, Department of Civil, Geological and Mining Engineering  \n",
    "Polytechnique Montréal, C.P. 6079, succ. Centre-Ville  \n",
    "Montréal (Québec) Canada H3C 3A7  \n",
    "Phone: (514) 340-4711 ext. 4210  \n",
    "Email: etienne-2.beauchamp@polymtl.ca\n",
    "\n",
    "## Overview\n",
    "This code was written for a project done as part of the course *CIV6705 - Théorie de la circulation*. It uses methods from the TrafficIntelligence Python module to draw fundamental diagrams of pedestrian data extracted from video recordings.\n",
    "\n",
    "Before getting started, you will need to install the following:\n",
    "* Python 3.5.6 (other versions were not tested) with most of the standard scientific packages (e.g., numpy, matplotlib, pandas, etc.). I recommend installing [Anaconda](https://www.anaconda.com/download/#linux);\n",
    "* [TrafficIntelligence](https://bitbucket.org/Nicolas/trafficintelligence/wiki/Home);\n",
    "* [OpenCV 3.4.3](https://anaconda.org/conda-forge/opencv)."
   ]
  },
  {
   "cell_type": "code",
   "execution_count": 1,
   "metadata": {},
   "outputs": [],
   "source": [
    "from trafficintelligence import storage, moving\n",
    "from scipy.spatial import Voronoi, voronoi_plot_2d\n",
    "from shapely.geometry import Point\n",
    "from shapely.geometry import Polygon\n",
    "\n",
    "import math\n",
    "import numpy as np\n",
    "import pandas as pd\n",
    "import matplotlib as mpl\n",
    "import matplotlib.cm as cm\n",
    "import matplotlib.pyplot as plt"
   ]
  },
  {
   "cell_type": "code",
   "execution_count": 2,
   "metadata": {},
   "outputs": [],
   "source": [
    "objects = storage.loadTrajectoriesFromSqlite('Donnees/1014AM_July 11_2014(E to W).sqlite','feature')\n",
    "\n",
    "frameRate = 30\n",
    "delatT    = 90*frameRate # 90 s cycle with a green time of 40 s"
   ]
  },
  {
   "cell_type": "code",
   "execution_count": 3,
   "metadata": {},
   "outputs": [],
   "source": [
    "# for o in objects:\n",
    "#     o.plot()"
   ]
  },
  {
   "cell_type": "markdown",
   "metadata": {},
   "source": [
    "### Data filtering"
   ]
  },
  {
   "cell_type": "code",
   "execution_count": 4,
   "metadata": {},
   "outputs": [],
   "source": [
    "# Removing points associated with vehicles according to the speed\n"
   ]
  },
  {
   "cell_type": "code",
   "execution_count": 5,
   "metadata": {},
   "outputs": [],
   "source": [
    "# Removing points associated with vehicles according to the orientation of the trajectories\n"
   ]
  },
  {
   "cell_type": "code",
   "execution_count": 6,
   "metadata": {},
   "outputs": [],
   "source": [
    "# Aggregate data according to the direction of the pedestrians\n"
   ]
  },
  {
   "cell_type": "markdown",
   "metadata": {},
   "source": [
    "### Voronoï diagram technique"
   ]
  },
  {
   "cell_type": "code",
   "execution_count": 7,
   "metadata": {},
   "outputs": [],
   "source": [
    "# Function found at: https://gist.github.com/pv/8036995\n",
    "def voronoi_finite_polygons_2d(vor, radius=None):\n",
    "    \"\"\"\n",
    "    Reconstruct infinite voronoi regions in a 2D diagram to finite regions.\n",
    "    Parameters\n",
    "    ----------\n",
    "    vor : Voronoi\n",
    "        Input diagram\n",
    "    radius : float, optional\n",
    "        Distance to 'points at infinity'.\n",
    "    Returns\n",
    "    -------\n",
    "    regions : list of tuples\n",
    "        Indices of vertices in each revised Voronoi regions.\n",
    "    vertices : list of tuples\n",
    "        Coordinates for revised Voronoi vertices. Same as coordinates of input vertices, with 'points at infinity' \n",
    "        appended to the end.\n",
    "    \"\"\"\n",
    "\n",
    "    if vor.points.shape[1] != 2:\n",
    "        raise ValueError(\"Requires 2D input\")\n",
    "\n",
    "    new_regions = []\n",
    "    new_vertices = vor.vertices.tolist()\n",
    "\n",
    "    center = vor.points.mean(axis=0)\n",
    "    if radius is None:\n",
    "        radius = vor.points.ptp().max()*2\n",
    "\n",
    "    # Construct a map containing all ridges for a given point\n",
    "    all_ridges = {}\n",
    "    for (p1, p2), (v1, v2) in zip(vor.ridge_points, vor.ridge_vertices):\n",
    "        all_ridges.setdefault(p1, []).append((p2, v1, v2))\n",
    "        all_ridges.setdefault(p2, []).append((p1, v1, v2))\n",
    "\n",
    "    # Reconstruct infinite regions\n",
    "    for p1, region in enumerate(vor.point_region):\n",
    "        vertices = vor.regions[region]\n",
    "\n",
    "        if all(v >= 0 for v in vertices):\n",
    "            # finite region\n",
    "            new_regions.append(vertices)\n",
    "            continue\n",
    "\n",
    "        # reconstruct a non-finite region\n",
    "        ridges = all_ridges[p1]\n",
    "        new_region = [v for v in vertices if v >= 0]\n",
    "\n",
    "        for p2, v1, v2 in ridges:\n",
    "            if v2 < 0:\n",
    "                v1, v2 = v2, v1\n",
    "            if v1 >= 0:\n",
    "                # finite ridge: already in the region\n",
    "                continue\n",
    "\n",
    "            # Compute the missing endpoint of an infinite ridge\n",
    "\n",
    "            t = vor.points[p2] - vor.points[p1] # tangent\n",
    "            t /= np.linalg.norm(t)\n",
    "            n = np.array([-t[1], t[0]])  # normal\n",
    "\n",
    "            midpoint = vor.points[[p1, p2]].mean(axis=0)\n",
    "            direction = np.sign(np.dot(midpoint - center, n)) * n\n",
    "            far_point = vor.vertices[v2] + direction * radius\n",
    "\n",
    "            new_region.append(len(new_vertices))\n",
    "            new_vertices.append(far_point.tolist())\n",
    "\n",
    "        # sort region counterclockwise\n",
    "        vs = np.asarray([new_vertices[v] for v in new_region])\n",
    "        c = vs.mean(axis=0)\n",
    "        angles = np.arctan2(vs[:,1] - c[1], vs[:,0] - c[0])\n",
    "        new_region = np.array(new_region)[np.argsort(angles)]\n",
    "\n",
    "        # finish\n",
    "        new_regions.append(new_region.tolist())\n",
    "\n",
    "    return new_regions, np.asarray(new_vertices)"
   ]
  },
  {
   "cell_type": "code",
   "execution_count": 14,
   "metadata": {},
   "outputs": [],
   "source": [
    "# https://stackoverflow.com/questions/24467972/calculate-area-of-polygon-given-x-y-coordinates\n",
    "def PolygonArea(corners):\n",
    "    n = len(corners) # of corners\n",
    "    area = 0.0\n",
    "    for i in range(n):\n",
    "        j = (i + 1) % n\n",
    "        area += corners[i][0] * corners[j][1]\n",
    "        area -= corners[j][0] * corners[i][1]\n",
    "    area = abs(area) / 2.0\n",
    "    return area"
   ]
  },
  {
   "cell_type": "code",
   "execution_count": 9,
   "metadata": {},
   "outputs": [],
   "source": [
    "points = np.array([[0,0]])\n",
    "speed = []\n",
    "\n",
    "for o in objects:\n",
    "    if(o.existsAtInstant(10)):\n",
    "        pos = o.getPositionAtInstant(10)\n",
    "        points = np.append(points, [pos.aslist()], axis = 0)\n",
    "        speed.append(o.getVelocityAtInstant(10).norm2()*frameRate)\n",
    "\n",
    "points = points[1:]"
   ]
  },
  {
   "cell_type": "code",
   "execution_count": 10,
   "metadata": {},
   "outputs": [
    {
     "data": {
      "image/png": "[encoded data removed]",
      "text/plain": [
       "<Figure size 432x288 with 1 Axes>"
      ]
     },
     "metadata": {},
     "output_type": "display_data"
    }
   ],
   "source": [
    "# Limits of the study area\n",
    "min_x = 9.45423\n",
    "max_x = 31.3422\n",
    "min_y = 7.99941\n",
    "max_y = 26.8535\n",
    "\n",
    "limits   = [[12.7377, min_y], [min_x, 20.4617], [26.2292, max_y], [max_x, 19.6558]]\n",
    "limitBox = Polygon([[12.7377, min_y], [min_x, 20.4617], [26.2292, max_y], [max_x, 19.6558]])\n",
    "\n",
    "# Minimum and maximum values of the polygon areas for normalization\n",
    "minima = 0\n",
    "maxima = PolygonArea(limits)\n",
    "\n",
    "# normalize chosen colormap\n",
    "norm = mpl.colors.Normalize(vmin=minima, vmax=maxima, clip=True)\n",
    "mapper = cm.ScalarMappable(norm=norm, cmap=cm.Blues_r)\n",
    "\n",
    "\n",
    "vor = Voronoi(points)\n",
    "\n",
    "regions, vertices = voronoi_finite_polygons_2d(vor)\n",
    "\n",
    "area    = []\n",
    "density = []\n",
    "\n",
    "i = 0\n",
    "\n",
    "# colorize\n",
    "for region in regions:\n",
    "    polygon = vertices[region]\n",
    "    poly = Polygon(polygon)\n",
    "    poly = poly.intersection(limitBox)\n",
    "    polygon = [p for p in poly.exterior.coords]\n",
    "    plt.fill(*zip(*polygon), color = mapper.to_rgba(PolygonArea(polygon)))\n",
    "    area.append(PolygonArea(polygon))\n",
    "    density.append(1/PolygonArea(polygon))\n",
    "    i += 1\n",
    "\n",
    "plt.gca().set_aspect('equal', adjustable='box')\n",
    "plt.plot(points[:, 0], points[:, 1], 'ko')\n",
    "\n",
    "plt.show()"
   ]
  },
  {
   "cell_type": "code",
   "execution_count": 11,
   "metadata": {},
   "outputs": [
    {
     "data": {
      "image/png": "[encoded data removed]",
      "text/plain": [
       "<Figure size 432x288 with 1 Axes>"
      ]
     },
     "metadata": {},
     "output_type": "display_data"
    }
   ],
   "source": [
    "# plt.title()\n",
    "plt.xlabel(r'Densité (m$^{-1}$)')\n",
    "plt.ylabel(\"Vitesse (m/s)\")\n",
    "plt.show()"
   ]
  },
  {
   "cell_type": "markdown",
   "metadata": {},
   "source": [
    "### Edie's definition extension"
   ]
  },
  {
   "cell_type": "code",
   "execution_count": 2,
   "metadata": {},
   "outputs": [],
   "source": [
    "objects = storage.loadTrajectoriesFromSqlite('Donnees/1014AM_July 11_2014(E to W).sqlite','feature',20000)\n",
    "\n",
    "frameMin = 100\n",
    "frameMax = 1000\n",
    "\n",
    "min_x = 9.45423\n",
    "max_x = 31.3422\n",
    "min_y = 7.99941\n",
    "max_y = 26.8535\n",
    "\n",
    "limits = [[12.7377, min_y], [min_x, 20.4617], [26.2292, max_y], [max_x, 19.6558]]\n",
    "\n",
    "box = Polygon(limits)"
   ]
  },
  {
   "cell_type": "code",
   "execution_count": 3,
   "metadata": {},
   "outputs": [],
   "source": [
    "def objectsAppearingBetweenFrames(frameMin, frameMax):\n",
    "    objectsAppearingBetweenFrames = []\n",
    "\n",
    "    for o in objects:\n",
    "        objectTrajectoryFirstFrame = o.getFirstInstant()\n",
    "        objectTrajectoryLastFrame  = o.getLastInstant()\n",
    "\n",
    "        # The trajectory of the object is, at some point, between the first and the last sampled frame\n",
    "        if(objectTrajectoryFirstFrame < frameMax and objectTrajectoryLastFrame > frameMin):\n",
    "            objectNumber = o.getNum()\n",
    "\n",
    "            if(objectNumber not in objectsAppearingBetweenFrames):\n",
    "                objectsAppearingBetweenFrames.append(objectNumber)\n",
    "    \n",
    "    return objectsAppearingBetweenFrames"
   ]
  },
  {
   "cell_type": "code",
   "execution_count": 4,
   "metadata": {},
   "outputs": [],
   "source": [
    "def pointIsInBox(objectID, frame, box):\n",
    "    pos   = objects[objectID].getPositionAtInstant(frame) # X et Y coordinates at the given frame\n",
    "    point = Point(pos[0], pos[1])\n",
    "\n",
    "    return box.contains(point)"
   ]
  },
  {
   "cell_type": "code",
   "execution_count": 5,
   "metadata": {},
   "outputs": [],
   "source": [
    "def findEntries(box, firstFrame, lastFrame, objectsPresent):\n",
    "    # Initialize the DataFrame for the first moment in the volume\n",
    "    colEntries = ['trajectoryID', 'coordinateInit', 'frameInit']\n",
    "    entries = pd.DataFrame(columns = colEntries)\n",
    "\n",
    "    # Iterate from first to the last studied frame\n",
    "    for frame in range(frameMin, frameMax + 1):\n",
    "\n",
    "        # Find the objects that are present in the frame\n",
    "        for objectNum in objectsPresent:\n",
    "\n",
    "            # Check if the trajectory is in the frame\n",
    "            if(objects[objectNum].existsAtInstant(frame)):\n",
    "\n",
    "                # Check if the trajectory is new\n",
    "                if(objectNum not in entries.trajectoryID.tolist()):\n",
    "\n",
    "                    # Check wether the point is in the limits of the study area\n",
    "                    if(pointIsInBox(objectNum, frame, box)):\n",
    "                        firstCoordinates = objects[objectNum].getPositionAtInstant(frame)\n",
    "\n",
    "                        # Create a dataframe row to be appended\n",
    "                        df = pd.DataFrame([[objectNum, firstCoordinates, frame]], columns = colEntries)\n",
    "                        entries = entries.append(df, ignore_index = True) # Append the new row\n",
    "    return entries"
   ]
  },
  {
   "cell_type": "code",
   "execution_count": 6,
   "metadata": {},
   "outputs": [],
   "source": [
    "objectsPresent = objectsAppearingBetweenFrames(frameMin, frameMax)\n",
    "\n",
    "entries = findEntries(box, frameMin, frameMax, objectsPresent)"
   ]
  },
  {
   "cell_type": "code",
   "execution_count": 7,
   "metadata": {},
   "outputs": [],
   "source": [
    "def findExits(box, entriesList):\n",
    "    # Initialize the DataFrame for the last moment in the volume\n",
    "    colExits = ['trajectoryID', 'coordinateLast', 'frameLast']\n",
    "    exits = pd.DataFrame(columns = colExits)\n",
    "\n",
    "    for objectNum in entriesList:\n",
    "        lastFrame = objects[objectNum].getLastInstant()\n",
    "        lastPos   = objects[objectNum].getPositionAtInstant(lastFrame)\n",
    "\n",
    "        # Case where the trajectory ends in the area\n",
    "        if(pointIsInBox(objectNum, lastFrame, box)):\n",
    "            lastCoordinates = lastPos\n",
    "\n",
    "        # The trip ends out of bound\n",
    "        else:\n",
    "            # Finding the last coordinates that were in the area\n",
    "            while(not pointIsInBox(objectNum, lastFrame, box)):\n",
    "                lastFrame -= 1\n",
    "\n",
    "            lastCoordinates = objects[objectNum].getPositionAtInstant(lastFrame)\n",
    "\n",
    "        df = pd.DataFrame([[objectNum, lastCoordinates, lastFrame]], columns = colExits)\n",
    "        exits = exits.append(df, ignore_index = True) # Append the new row\n",
    "    return exits"
   ]
  },
  {
   "cell_type": "code",
   "execution_count": 8,
   "metadata": {},
   "outputs": [],
   "source": [
    "entriesList = entries.trajectoryID.tolist()\n",
    "\n",
    "exits = findExits(box, entriesList)"
   ]
  },
  {
   "cell_type": "code",
   "execution_count": 9,
   "metadata": {},
   "outputs": [],
   "source": [
    "def computeDistance(trajID):\n",
    "    # Find the dataframe corresponding to the desired ID\n",
    "    trajectoryEntryDataFrame = entries.loc[entries.trajectoryID == trajID]\n",
    "    trajectoryExitDataFrame  = exits.loc[exits.trajectoryID == trajID]\n",
    "    \n",
    "    # Extract the first and final positions\n",
    "    x_ini = trajectoryEntryDataFrame.coordinateInit.values[0][0]\n",
    "    y_ini = trajectoryEntryDataFrame.coordinateInit.values[0][1]\n",
    "\n",
    "    x_las = trajectoryExitDataFrame.coordinateLast.values[0][0]\n",
    "    y_las = trajectoryExitDataFrame.coordinateLast.values[0][1]\n",
    "\n",
    "    return math.sqrt((x_ini - x_las)**2 + (y_ini - y_las)**2)"
   ]
  },
  {
   "cell_type": "code",
   "execution_count": 10,
   "metadata": {},
   "outputs": [],
   "source": [
    "def computeTime(trajID):\n",
    "    # Find the dataframe corresponding to the desired ID\n",
    "    trajectoryEntryDataFrame = entries.loc[entries.trajectoryID == trajID]\n",
    "    trajectoryExitDataFrame  = exits.loc[exits.trajectoryID == trajID]\n",
    "    \n",
    "    # Extract the first and final frame values\n",
    "    t_ini = trajectoryEntryDataFrame.frameInit.values[0]\n",
    "    t_las = trajectoryExitDataFrame.frameLast.values[0]\n",
    "    \n",
    "    return (t_las - t_ini) / frameRate"
   ]
  },
  {
   "cell_type": "code",
   "execution_count": 17,
   "metadata": {},
   "outputs": [],
   "source": [
    "frameRate = 30\n",
    "delatT    = 90*frameRate"
   ]
  },
  {
   "cell_type": "code",
   "execution_count": 18,
   "metadata": {},
   "outputs": [],
   "source": [
    "sumOfDistances = 0\n",
    "sumOftime      = 0\n",
    "\n",
    "for tID in entriesList:\n",
    "    sumOfDistances += computeDistance(tID)\n",
    "    sumOftime      += computeTime(tID)\n",
    "\n",
    "XY = PolygonArea(limits)\n",
    "T  = delatT/frameRate\n",
    "\n",
    "q = sumOfDistances/T*XY\n",
    "k = sumOftime/T*XY\n",
    "v = sumOfDistances/sumOftime"
   ]
  },
  {
   "cell_type": "code",
   "execution_count": 19,
   "metadata": {},
   "outputs": [
    {
     "data": {
      "image/png": "[encoded data removed]",
      "text/plain": [
       "<Figure size 432x288 with 1 Axes>"
      ]
     },
     "metadata": {},
     "output_type": "display_data"
    }
   ],
   "source": [
    "plt.plot(k,v)\n",
    "# plt.title()\n",
    "plt.xlabel(r'Densité (m$^{-1}$)')\n",
    "plt.ylabel(\"Vitesse (m/s)\")\n",
    "plt.show()"
   ]
  },
  {
   "cell_type": "code",
   "execution_count": 20,
   "metadata": {},
   "outputs": [
    {
     "data": {
      "text/plain": [
       "3840.2692271605647"
      ]
     },
     "execution_count": 20,
     "metadata": {},
     "output_type": "execute_result"
    }
   ],
   "source": [
    "q"
   ]
  },
  {
   "cell_type": "code",
   "execution_count": 21,
   "metadata": {},
   "outputs": [
    {
     "data": {
      "text/plain": [
       "1443.6014788687128"
      ]
     },
     "execution_count": 21,
     "metadata": {},
     "output_type": "execute_result"
    }
   ],
   "source": [
    "k"
   ]
  },
  {
   "cell_type": "code",
   "execution_count": 22,
   "metadata": {},
   "outputs": [
    {
     "data": {
      "text/plain": [
       "2.66020039697522"
      ]
     },
     "execution_count": 22,
     "metadata": {},
     "output_type": "execute_result"
    }
   ],
   "source": [
    "v"
   ]
  }
 ],
 "metadata": {
  "kernelspec": {
   "display_name": "Python 3",
   "language": "python",
   "name": "python3"
  },
  "language_info": {
   "codemirror_mode": {
    "name": "ipython",
    "version": 3
   },
   "file_extension": ".py",
   "mimetype": "text/x-python",
   "name": "python",
   "nbconvert_exporter": "python",
   "pygments_lexer": "ipython3",
   "version": "3.5.6"
  }
 },
 "nbformat": 4,
 "nbformat_minor": 2
}
