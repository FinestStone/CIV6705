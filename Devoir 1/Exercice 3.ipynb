{
 "cells": [
  {
   "cell_type": "code",
   "execution_count": 1,
   "metadata": {},
   "outputs": [],
   "source": [
    "import pandas as pd\n",
    "import numpy as np\n",
    "from scipy import stats\n",
    "from matplotlib import pyplot as plt\n",
    "\n",
    "path = 'donnees_TD1/d04_text_400432_raw_2016_01_12.txt'\n",
    "data = pd.read_csv(path, names = [\"Timestamp\", \"Station\",\"Lane_1_Flow\", \"Lane_1_Occ\", \"Lane_1_Speed\",\n",
    "                                  \"Lane_2_Flow\", \"Lane_2_Occ\", \"Lane_2_Speed\", \n",
    "                                  \"Lane_3_Flow\", \"Lane_3_Occ\", \"Lane_3_Speed\",\n",
    "                                  \"Lane_4_Flow\", \"Lane_4_Occ\", \"Lane_4_Speed\", \n",
    "                                  \"Lane_5_Flow\", \"Lane_5_Occ\", \"Lane_5_Speed\",\n",
    "                                  \"Lane_6_Flow\", \"Lane_6_Occ\", \"Lane_6_Speed\", \n",
    "                                  \"Lane_7_Flow\", \"Lane_7_Occ\", \"Lane_7_Speed\",\n",
    "                                  \"Lane_8_Flow\", \"Lane_8_Occ\", \"Lane_8_Speed\"])"
   ]
  },
  {
   "cell_type": "code",
   "execution_count": 2,
   "metadata": {},
   "outputs": [
    {
     "data": {
      "text/html": [
       "<div>\n",
       "<style scoped>\n",
       "    .dataframe tbody tr th:only-of-type {\n",
       "        vertical-align: middle;\n",
       "    }\n",
       "\n",
       "    .dataframe tbody tr th {\n",
       "        vertical-align: top;\n",
       "    }\n",
       "\n",
       "    .dataframe thead th {\n",
       "        text-align: right;\n",
       "    }\n",
       "</style>\n",
       "<table border=\"1\" class=\"dataframe\">\n",
       "  <thead>\n",
       "    <tr style=\"text-align: right;\">\n",
       "      <th></th>\n",
       "      <th>Timestamp</th>\n",
       "      <th>Station</th>\n",
       "      <th>Lane_1_Flow</th>\n",
       "      <th>Lane_1_Occ</th>\n",
       "      <th>Lane_1_Speed</th>\n",
       "      <th>Lane_2_Flow</th>\n",
       "      <th>Lane_2_Occ</th>\n",
       "      <th>Lane_2_Speed</th>\n",
       "      <th>Lane_3_Flow</th>\n",
       "      <th>Lane_3_Occ</th>\n",
       "      <th>...</th>\n",
       "      <th>Lane_5_Speed</th>\n",
       "      <th>Lane_6_Flow</th>\n",
       "      <th>Lane_6_Occ</th>\n",
       "      <th>Lane_6_Speed</th>\n",
       "      <th>Lane_7_Flow</th>\n",
       "      <th>Lane_7_Occ</th>\n",
       "      <th>Lane_7_Speed</th>\n",
       "      <th>Lane_8_Flow</th>\n",
       "      <th>Lane_8_Occ</th>\n",
       "      <th>Lane_8_Speed</th>\n",
       "    </tr>\n",
       "  </thead>\n",
       "  <tbody>\n",
       "    <tr>\n",
       "      <th>0</th>\n",
       "      <td>01/12/2016 00:00:19</td>\n",
       "      <td>400432</td>\n",
       "      <td>3</td>\n",
       "      <td>0.0167</td>\n",
       "      <td>98</td>\n",
       "      <td>7</td>\n",
       "      <td>0.0406</td>\n",
       "      <td>94</td>\n",
       "      <td>3</td>\n",
       "      <td>0.0167</td>\n",
       "      <td>...</td>\n",
       "      <td>106</td>\n",
       "      <td>NaN</td>\n",
       "      <td>NaN</td>\n",
       "      <td>NaN</td>\n",
       "      <td>NaN</td>\n",
       "      <td>NaN</td>\n",
       "      <td>NaN</td>\n",
       "      <td>NaN</td>\n",
       "      <td>NaN</td>\n",
       "      <td>NaN</td>\n",
       "    </tr>\n",
       "    <tr>\n",
       "      <th>1</th>\n",
       "      <td>01/12/2016 00:00:49</td>\n",
       "      <td>400432</td>\n",
       "      <td>2</td>\n",
       "      <td>0.0106</td>\n",
       "      <td>103</td>\n",
       "      <td>7</td>\n",
       "      <td>0.0400</td>\n",
       "      <td>95</td>\n",
       "      <td>5</td>\n",
       "      <td>0.0300</td>\n",
       "      <td>...</td>\n",
       "      <td>92</td>\n",
       "      <td>NaN</td>\n",
       "      <td>NaN</td>\n",
       "      <td>NaN</td>\n",
       "      <td>NaN</td>\n",
       "      <td>NaN</td>\n",
       "      <td>NaN</td>\n",
       "      <td>NaN</td>\n",
       "      <td>NaN</td>\n",
       "      <td>NaN</td>\n",
       "    </tr>\n",
       "    <tr>\n",
       "      <th>2</th>\n",
       "      <td>01/12/2016 00:01:19</td>\n",
       "      <td>400432</td>\n",
       "      <td>2</td>\n",
       "      <td>0.0117</td>\n",
       "      <td>93</td>\n",
       "      <td>8</td>\n",
       "      <td>0.0456</td>\n",
       "      <td>95</td>\n",
       "      <td>6</td>\n",
       "      <td>0.0356</td>\n",
       "      <td>...</td>\n",
       "      <td>93</td>\n",
       "      <td>NaN</td>\n",
       "      <td>NaN</td>\n",
       "      <td>NaN</td>\n",
       "      <td>NaN</td>\n",
       "      <td>NaN</td>\n",
       "      <td>NaN</td>\n",
       "      <td>NaN</td>\n",
       "      <td>NaN</td>\n",
       "      <td>NaN</td>\n",
       "    </tr>\n",
       "    <tr>\n",
       "      <th>3</th>\n",
       "      <td>01/12/2016 00:01:49</td>\n",
       "      <td>400432</td>\n",
       "      <td>3</td>\n",
       "      <td>0.0156</td>\n",
       "      <td>105</td>\n",
       "      <td>4</td>\n",
       "      <td>0.0217</td>\n",
       "      <td>100</td>\n",
       "      <td>3</td>\n",
       "      <td>0.0150</td>\n",
       "      <td>...</td>\n",
       "      <td>74</td>\n",
       "      <td>NaN</td>\n",
       "      <td>NaN</td>\n",
       "      <td>NaN</td>\n",
       "      <td>NaN</td>\n",
       "      <td>NaN</td>\n",
       "      <td>NaN</td>\n",
       "      <td>NaN</td>\n",
       "      <td>NaN</td>\n",
       "      <td>NaN</td>\n",
       "    </tr>\n",
       "    <tr>\n",
       "      <th>4</th>\n",
       "      <td>01/12/2016 00:02:19</td>\n",
       "      <td>400432</td>\n",
       "      <td>1</td>\n",
       "      <td>0.0056</td>\n",
       "      <td>98</td>\n",
       "      <td>3</td>\n",
       "      <td>0.0167</td>\n",
       "      <td>98</td>\n",
       "      <td>3</td>\n",
       "      <td>0.0167</td>\n",
       "      <td>...</td>\n",
       "      <td>93</td>\n",
       "      <td>NaN</td>\n",
       "      <td>NaN</td>\n",
       "      <td>NaN</td>\n",
       "      <td>NaN</td>\n",
       "      <td>NaN</td>\n",
       "      <td>NaN</td>\n",
       "      <td>NaN</td>\n",
       "      <td>NaN</td>\n",
       "      <td>NaN</td>\n",
       "    </tr>\n",
       "  </tbody>\n",
       "</table>\n",
       "<p>5 rows × 26 columns</p>\n",
       "</div>"
      ],
      "text/plain": [
       "             Timestamp  Station  Lane_1_Flow  Lane_1_Occ  Lane_1_Speed  \\\n",
       "0  01/12/2016 00:00:19   400432            3      0.0167            98   \n",
       "1  01/12/2016 00:00:49   400432            2      0.0106           103   \n",
       "2  01/12/2016 00:01:19   400432            2      0.0117            93   \n",
       "3  01/12/2016 00:01:49   400432            3      0.0156           105   \n",
       "4  01/12/2016 00:02:19   400432            1      0.0056            98   \n",
       "\n",
       "   Lane_2_Flow  Lane_2_Occ  Lane_2_Speed  Lane_3_Flow  Lane_3_Occ  \\\n",
       "0            7      0.0406            94            3      0.0167   \n",
       "1            7      0.0400            95            5      0.0300   \n",
       "2            8      0.0456            95            6      0.0356   \n",
       "3            4      0.0217           100            3      0.0150   \n",
       "4            3      0.0167            98            3      0.0167   \n",
       "\n",
       "       ...       Lane_5_Speed  Lane_6_Flow  Lane_6_Occ  Lane_6_Speed  \\\n",
       "0      ...                106          NaN         NaN           NaN   \n",
       "1      ...                 92          NaN         NaN           NaN   \n",
       "2      ...                 93          NaN         NaN           NaN   \n",
       "3      ...                 74          NaN         NaN           NaN   \n",
       "4      ...                 93          NaN         NaN           NaN   \n",
       "\n",
       "   Lane_7_Flow  Lane_7_Occ  Lane_7_Speed  Lane_8_Flow  Lane_8_Occ  \\\n",
       "0          NaN         NaN           NaN          NaN         NaN   \n",
       "1          NaN         NaN           NaN          NaN         NaN   \n",
       "2          NaN         NaN           NaN          NaN         NaN   \n",
       "3          NaN         NaN           NaN          NaN         NaN   \n",
       "4          NaN         NaN           NaN          NaN         NaN   \n",
       "\n",
       "   Lane_8_Speed  \n",
       "0           NaN  \n",
       "1           NaN  \n",
       "2           NaN  \n",
       "3           NaN  \n",
       "4           NaN  \n",
       "\n",
       "[5 rows x 26 columns]"
      ]
     },
     "execution_count": 2,
     "metadata": {},
     "output_type": "execute_result"
    }
   ],
   "source": [
    "data.head()"
   ]
  },
  {
   "cell_type": "code",
   "execution_count": 3,
   "metadata": {},
   "outputs": [],
   "source": [
    "indexTemps1 = [index for index, value in enumerate(data.Timestamp) if value >= \"01/12/2016 06:00:00\"][0]\n",
    "indexTemps2 = [index for index, value in enumerate(data.Timestamp) if value <= \"01/12/2016 10:00:00\"][-1]\n",
    "\n",
    "donnees6h_10h = data[indexTemps1:indexTemps2+1]"
   ]
  },
  {
   "cell_type": "code",
   "execution_count": 4,
   "metadata": {},
   "outputs": [],
   "source": [
    "indexTemps1 = [index for index, value in enumerate(data.Timestamp) if value >= \"01/12/2016 20:00:00\"][0]\n",
    "indexTemps2 = [index for index, value in enumerate(data.Timestamp) if value <= \"01/12/2016 22:00:00\"][-1]\n",
    "\n",
    "donnees20h_22h = data[indexTemps1:indexTemps2+1]"
   ]
  },
  {
   "cell_type": "code",
   "execution_count": 5,
   "metadata": {},
   "outputs": [],
   "source": [
    "def calculNombreObservations(donnees, voie, nombreDePassages):\n",
    "    nombreOccurences = 0\n",
    "    Lane_N_Flow = \"Lane_%d_Flow\"%voie\n",
    "    \n",
    "    for i in range(len(donnees)):\n",
    "        if donnees[Lane_N_Flow].iloc[i] == nombreDePassages:\n",
    "            nombreOccurences += 1\n",
    "    return nombreOccurences"
   ]
  },
  {
   "cell_type": "code",
   "execution_count": 6,
   "metadata": {},
   "outputs": [],
   "source": [
    "# [\"Nombre de véhicules passés\", \"Nombre d'occurences\", \"Nombre attendues\"]                         \n",
    "vecteurDonnees1 = np.array([[0.0,  0.0, 0.0]])\n",
    "vecteurDonnees2 = np.array([[0.0,  0.0, 0.0]])\n",
    "vecteurDonnees3 = np.array([[0.0,  0.0, 0.0]])\n",
    "vecteurDonnees4 = np.array([[0.0,  0.0, 0.0]])"
   ]
  },
  {
   "cell_type": "code",
   "execution_count": 7,
   "metadata": {},
   "outputs": [],
   "source": [
    "def ajoutCompteObservations(vecteurDonnees, donneesXh_Yh, voie):\n",
    "    vecteurDonnees[0][1] = calculNombreObservations(donneesXh_Yh,voie,0)\n",
    "    Lane_N_Flow = \"Lane_%d_Flow\"%voie\n",
    "    \n",
    "    for i in range(1, max(donneesXh_Yh[Lane_N_Flow]) + 1):\n",
    "        nbObservations  = calculNombreObservations(donneesXh_Yh,voie,i)\n",
    "        donneesAjoutees = np.array([[i, nbObservations, 0]])\n",
    "        vecteurDonnees  = np.concatenate([vecteurDonnees, donneesAjoutees])\n",
    "    \n",
    "    return vecteurDonnees\n",
    "\n",
    "vecteurDonnees1 = ajoutCompteObservations(vecteurDonnees1, donnees6h_10h, 1)\n",
    "vecteurDonnees2 = ajoutCompteObservations(vecteurDonnees2, donnees6h_10h, 2)\n",
    "vecteurDonnees3 = ajoutCompteObservations(vecteurDonnees3, donnees20h_22h, 1)\n",
    "vecteurDonnees4 = ajoutCompteObservations(vecteurDonnees4, donnees20h_22h, 2)"
   ]
  },
  {
   "cell_type": "code",
   "execution_count": 8,
   "metadata": {},
   "outputs": [],
   "source": [
    "def calculApproximatifMu(vecteurDonnees):\n",
    "    n = 0\n",
    "    somme = 0\n",
    "\n",
    "    for i in range(len(vecteurDonnees)):\n",
    "        n += vecteurDonnees[i][1]*i\n",
    "        somme += vecteurDonnees[i][1]\n",
    "\n",
    "    return n/somme"
   ]
  },
  {
   "cell_type": "code",
   "execution_count": 9,
   "metadata": {},
   "outputs": [],
   "source": [
    "def ajoutProbabilite(vecteurDonnees, mu):\n",
    "    for x in range(len(vecteurDonnees)):\n",
    "        prob = float(((mu**x)*np.exp(-mu))/(np.math.factorial(x)))\n",
    "        nombreTotalObservations = np.sum(vecteurDonnees, axis=0)[1]\n",
    "        vecteurDonnees[x][2] = nombreTotalObservations*prob"
   ]
  },
  {
   "cell_type": "code",
   "execution_count": 10,
   "metadata": {},
   "outputs": [],
   "source": [
    "def testChiCarre(vecteurDonnees):\n",
    "    Chi_squared = 0\n",
    "\n",
    "    for i in range(len(vecteurDonnees)):\n",
    "        observed = vecteurDonnees[i][1]\n",
    "        expected = vecteurDonnees[i][2]\n",
    "        Chi_squared += ((observed-expected)**2)/expected\n",
    "    \n",
    "    DF = len(vecteurDonnees1) - 1 - 1\n",
    "    p_value = 1 - stats.chi2.cdf(Chi_squared, DF)\n",
    "    \n",
    "    return p_value"
   ]
  },
  {
   "cell_type": "code",
   "execution_count": 11,
   "metadata": {},
   "outputs": [
    {
     "name": "stdout",
     "output_type": "stream",
     "text": [
      "0.0000e+00\n"
     ]
    }
   ],
   "source": [
    "mu = calculApproximatifMu(vecteurDonnees1)\n",
    "ajoutProbabilite(vecteurDonnees1, mu)\n",
    "print('%.4e'% (testChiCarre(vecteurDonnees1)))"
   ]
  },
  {
   "cell_type": "code",
   "execution_count": 12,
   "metadata": {},
   "outputs": [
    {
     "name": "stdout",
     "output_type": "stream",
     "text": [
      "0.0000e+00\n"
     ]
    }
   ],
   "source": [
    "mu = calculApproximatifMu(vecteurDonnees2)\n",
    "ajoutProbabilite(vecteurDonnees2, mu)\n",
    "print('%.4e'%testChiCarre(vecteurDonnees2))"
   ]
  },
  {
   "cell_type": "code",
   "execution_count": 13,
   "metadata": {},
   "outputs": [
    {
     "name": "stdout",
     "output_type": "stream",
     "text": [
      "0.0000e+00\n"
     ]
    }
   ],
   "source": [
    "mu = calculApproximatifMu(vecteurDonnees3)\n",
    "ajoutProbabilite(vecteurDonnees3, mu)\n",
    "print('%.4e'%testChiCarre(vecteurDonnees3))"
   ]
  },
  {
   "cell_type": "code",
   "execution_count": 14,
   "metadata": {},
   "outputs": [
    {
     "name": "stdout",
     "output_type": "stream",
     "text": [
      "0.0000e+00\n"
     ]
    }
   ],
   "source": [
    "mu = calculApproximatifMu(vecteurDonnees4)\n",
    "ajoutProbabilite(vecteurDonnees4, mu)\n",
    "print('%.4e'%testChiCarre(vecteurDonnees4))"
   ]
  },
  {
   "cell_type": "code",
   "execution_count": 15,
   "metadata": {},
   "outputs": [],
   "source": [
    "# np.savetxt(\"Donnees_produites/vecteurDonnees1.csv\", vecteurDonnees1, fmt=['%d','%d','%.4f'],  delimiter=',')\n",
    "# np.savetxt(\"Donnees_produites/vecteurDonnees2.csv\", vecteurDonnees2, fmt=['%d','%d','%.4f'],  delimiter=',')\n",
    "# np.savetxt(\"Donnees_produites/vecteurDonnees3.csv\", vecteurDonnees3, fmt=['%d','%d','%.4f'],  delimiter=',')\n",
    "# np.savetxt(\"Donnees_produites/vecteurDonnees4.csv\", vecteurDonnees4, fmt=['%d','%d','%.4f'],  delimiter=',')"
   ]
  },
  {
   "cell_type": "code",
   "execution_count": 16,
   "metadata": {},
   "outputs": [
    {
     "data": {
      "image/png": "[encoded data removed]",
      "text/plain": [
       "<Figure size 432x288 with 1 Axes>"
      ]
     },
     "metadata": {
      "needs_background": "light"
     },
     "output_type": "display_data"
    }
   ],
   "source": [
    "# Exercice 2\n",
    "plt.bar(vecteurDonnees1[:,0],vecteurDonnees1[:,1], alpha=0.6, label='Observations')\n",
    "plt.bar(vecteurDonnees1[:,0],vecteurDonnees1[:,2], alpha=0.6, label=r'Poisson ($\\mu$ $\\approx$ 2.56)')\n",
    "plt.xlabel('Nombre de véhicules arrivant dans un intervalle de 30 s')\n",
    "plt.ylabel('Nombre d''observations')\n",
    "plt.title('Données empiriques et attendues entre 6h et 10h, sur la voie #1')\n",
    "plt.legend(),\n",
    "# plt.savefig('Donnees_produites/Figures/poisson_6_10_1.png', format='png')\n",
    "plt.show()"
   ]
  },
  {
   "cell_type": "code",
   "execution_count": 17,
   "metadata": {},
   "outputs": [
    {
     "data": {
      "image/png": "[encoded data removed]",
      "text/plain": [
       "<Figure size 432x288 with 1 Axes>"
      ]
     },
     "metadata": {
      "needs_background": "light"
     },
     "output_type": "display_data"
    }
   ],
   "source": [
    "plt.bar(vecteurDonnees2[:,0],vecteurDonnees2[:,1], alpha=0.6, label='Observations')\n",
    "plt.bar(vecteurDonnees2[:,0],vecteurDonnees2[:,2], alpha=0.6, label=r'Poisson ($\\mu$ $\\approx$ 13.1875)')\n",
    "plt.xlabel('Nombre de véhicules arrivant dans un intervalle de 30 s')\n",
    "plt.ylabel('Nombre d''observations')\n",
    "plt.title('Données empiriques et attendues entre 6h et 10h, sur la voie #2')\n",
    "plt.legend()\n",
    "plt.savefig('Donnees_produites/Figures/poisson_6_10_2.png', format='png')\n",
    "plt.show()"
   ]
  },
  {
   "cell_type": "code",
   "execution_count": 18,
   "metadata": {},
   "outputs": [
    {
     "data": {
      "image/png": "[encoded data removed]",
      "text/plain": [
       "<Figure size 432x288 with 1 Axes>"
      ]
     },
     "metadata": {
      "needs_background": "light"
     },
     "output_type": "display_data"
    }
   ],
   "source": [
    "plt.xlabel('Nombre de véhicules arrivant dans un intervalle de 30 s')\n",
    "plt.ylabel('Nombre d''observations')\n",
    "plt.title('Données empiriques et attendues entre 20h et 22h, sur la voie #1')\n",
    "plt.bar(vecteurDonnees3[:,0],vecteurDonnees3[:,1], alpha=0.6, label='Observations')\n",
    "plt.bar(vecteurDonnees3[:,0],vecteurDonnees3[:,2], alpha=0.6, label=r'Poisson ($\\mu$ $\\approx$ 8.42)')\n",
    "plt.legend()\n",
    "# plt.savefig('Donnees_produites/Figures/poisson_20_22_1.png', format='png')\n",
    "plt.show()"
   ]
  },
  {
   "cell_type": "code",
   "execution_count": 19,
   "metadata": {},
   "outputs": [
    {
     "data": {
      "image/png": "[encoded data removed]",
      "text/plain": [
       "<Figure size 432x288 with 1 Axes>"
      ]
     },
     "metadata": {
      "needs_background": "light"
     },
     "output_type": "display_data"
    }
   ],
   "source": [
    "plt.xlabel('Nombre de véhicules arrivant dans un intervalle de 30 s')\n",
    "plt.ylabel('Nombre d''observations')\n",
    "plt.title('Données empiriques et attendues entre 20h et 22h, sur la voie #2')\n",
    "plt.bar(vecteurDonnees4[:,0],vecteurDonnees4[:,1], alpha=0.6, label='Observations')\n",
    "plt.bar(vecteurDonnees4[:,0],vecteurDonnees4[:,2], alpha=0.6, label=r'Poisson ($\\mu$ $\\approx$ 10.5125)')\n",
    "plt.legend(loc = 'upper left')\n",
    "# plt.savefig('Donnees_produites/Figures/poisson_20_22_2.png', format='png')\n",
    "plt.show()"
   ]
  }
 ],
 "metadata": {
  "kernelspec": {
   "display_name": "Python 3",
   "language": "python",
   "name": "python3"
  },
  "language_info": {
   "codemirror_mode": {
    "name": "ipython",
    "version": 3
   },
   "file_extension": ".py",
   "mimetype": "text/x-python",
   "name": "python",
   "nbconvert_exporter": "python",
   "pygments_lexer": "ipython3",
   "version": "3.7.0"
  }
 },
 "nbformat": 4,
 "nbformat_minor": 2
}
